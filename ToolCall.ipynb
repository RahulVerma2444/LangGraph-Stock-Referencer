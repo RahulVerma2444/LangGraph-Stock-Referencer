{
  "nbformat": 4,
  "nbformat_minor": 0,
  "metadata": {
    "colab": {
      "provenance": [],
      "authorship_tag": "ABX9TyOHPY9IUrtyBuAFT7ik3+PF",
      "include_colab_link": true
    },
    "kernelspec": {
      "name": "python3",
      "display_name": "Python 3"
    },
    "language_info": {
      "name": "python"
    }
  },
  "cells": [
    {
      "cell_type": "markdown",
      "metadata": {
        "id": "view-in-github",
        "colab_type": "text"
      },
      "source": [
        "<a href=\"https://colab.research.google.com/github/RahulVerma2444/LangGraph-Stock-Referencer/blob/main/ToolCall.ipynb\" target=\"_parent\"><img src=\"https://colab.research.google.com/assets/colab-badge.svg\" alt=\"Open In Colab\"/></a>"
      ]
    },
    {
      "cell_type": "code",
      "source": [
        "pip install langgraph"
      ],
      "metadata": {
        "colab": {
          "base_uri": "https://localhost:8080/"
        },
        "id": "2Cd5NAN6rTO8",
        "outputId": "7eec4d50-c1da-4022-ba46-5ba631020267"
      },
      "execution_count": null,
      "outputs": [
        {
          "output_type": "stream",
          "name": "stdout",
          "text": [
            "Collecting langgraph\n",
            "  Downloading langgraph-0.6.4-py3-none-any.whl.metadata (6.8 kB)\n",
            "Requirement already satisfied: langchain-core>=0.1 in /usr/local/lib/python3.11/dist-packages (from langgraph) (0.3.74)\n",
            "Collecting langgraph-checkpoint<3.0.0,>=2.1.0 (from langgraph)\n",
            "  Downloading langgraph_checkpoint-2.1.1-py3-none-any.whl.metadata (4.2 kB)\n",
            "Collecting langgraph-prebuilt<0.7.0,>=0.6.0 (from langgraph)\n",
            "  Downloading langgraph_prebuilt-0.6.4-py3-none-any.whl.metadata (4.5 kB)\n",
            "Collecting langgraph-sdk<0.3.0,>=0.2.0 (from langgraph)\n",
            "  Downloading langgraph_sdk-0.2.0-py3-none-any.whl.metadata (1.5 kB)\n",
            "Requirement already satisfied: pydantic>=2.7.4 in /usr/local/lib/python3.11/dist-packages (from langgraph) (2.11.7)\n",
            "Requirement already satisfied: xxhash>=3.5.0 in /usr/local/lib/python3.11/dist-packages (from langgraph) (3.5.0)\n",
            "Requirement already satisfied: langsmith>=0.3.45 in /usr/local/lib/python3.11/dist-packages (from langchain-core>=0.1->langgraph) (0.4.13)\n",
            "Requirement already satisfied: tenacity!=8.4.0,<10.0.0,>=8.1.0 in /usr/local/lib/python3.11/dist-packages (from langchain-core>=0.1->langgraph) (9.1.2)\n",
            "Requirement already satisfied: jsonpatch<2.0,>=1.33 in /usr/local/lib/python3.11/dist-packages (from langchain-core>=0.1->langgraph) (1.33)\n",
            "Requirement already satisfied: PyYAML>=5.3 in /usr/local/lib/python3.11/dist-packages (from langchain-core>=0.1->langgraph) (6.0.2)\n",
            "Requirement already satisfied: typing-extensions>=4.7 in /usr/local/lib/python3.11/dist-packages (from langchain-core>=0.1->langgraph) (4.14.1)\n",
            "Requirement already satisfied: packaging>=23.2 in /usr/local/lib/python3.11/dist-packages (from langchain-core>=0.1->langgraph) (25.0)\n",
            "Collecting ormsgpack>=1.10.0 (from langgraph-checkpoint<3.0.0,>=2.1.0->langgraph)\n",
            "  Downloading ormsgpack-1.10.0-cp311-cp311-manylinux_2_17_x86_64.manylinux2014_x86_64.whl.metadata (43 kB)\n",
            "\u001b[2K     \u001b[90m━━━━━━━━━━━━━━━━━━━━━━━━━━━━━━━━━━━━━━━━\u001b[0m \u001b[32m43.7/43.7 kB\u001b[0m \u001b[31m2.7 MB/s\u001b[0m eta \u001b[36m0:00:00\u001b[0m\n",
            "\u001b[?25hRequirement already satisfied: httpx>=0.25.2 in /usr/local/lib/python3.11/dist-packages (from langgraph-sdk<0.3.0,>=0.2.0->langgraph) (0.28.1)\n",
            "Requirement already satisfied: orjson>=3.10.1 in /usr/local/lib/python3.11/dist-packages (from langgraph-sdk<0.3.0,>=0.2.0->langgraph) (3.11.1)\n",
            "Requirement already satisfied: annotated-types>=0.6.0 in /usr/local/lib/python3.11/dist-packages (from pydantic>=2.7.4->langgraph) (0.7.0)\n",
            "Requirement already satisfied: pydantic-core==2.33.2 in /usr/local/lib/python3.11/dist-packages (from pydantic>=2.7.4->langgraph) (2.33.2)\n",
            "Requirement already satisfied: typing-inspection>=0.4.0 in /usr/local/lib/python3.11/dist-packages (from pydantic>=2.7.4->langgraph) (0.4.1)\n",
            "Requirement already satisfied: anyio in /usr/local/lib/python3.11/dist-packages (from httpx>=0.25.2->langgraph-sdk<0.3.0,>=0.2.0->langgraph) (4.10.0)\n",
            "Requirement already satisfied: certifi in /usr/local/lib/python3.11/dist-packages (from httpx>=0.25.2->langgraph-sdk<0.3.0,>=0.2.0->langgraph) (2025.8.3)\n",
            "Requirement already satisfied: httpcore==1.* in /usr/local/lib/python3.11/dist-packages (from httpx>=0.25.2->langgraph-sdk<0.3.0,>=0.2.0->langgraph) (1.0.9)\n",
            "Requirement already satisfied: idna in /usr/local/lib/python3.11/dist-packages (from httpx>=0.25.2->langgraph-sdk<0.3.0,>=0.2.0->langgraph) (3.10)\n",
            "Requirement already satisfied: h11>=0.16 in /usr/local/lib/python3.11/dist-packages (from httpcore==1.*->httpx>=0.25.2->langgraph-sdk<0.3.0,>=0.2.0->langgraph) (0.16.0)\n",
            "Requirement already satisfied: jsonpointer>=1.9 in /usr/local/lib/python3.11/dist-packages (from jsonpatch<2.0,>=1.33->langchain-core>=0.1->langgraph) (3.0.0)\n",
            "Requirement already satisfied: requests-toolbelt>=1.0.0 in /usr/local/lib/python3.11/dist-packages (from langsmith>=0.3.45->langchain-core>=0.1->langgraph) (1.0.0)\n",
            "Requirement already satisfied: requests>=2.0.0 in /usr/local/lib/python3.11/dist-packages (from langsmith>=0.3.45->langchain-core>=0.1->langgraph) (2.32.3)\n",
            "Requirement already satisfied: zstandard>=0.23.0 in /usr/local/lib/python3.11/dist-packages (from langsmith>=0.3.45->langchain-core>=0.1->langgraph) (0.23.0)\n",
            "Requirement already satisfied: charset-normalizer<4,>=2 in /usr/local/lib/python3.11/dist-packages (from requests>=2.0.0->langsmith>=0.3.45->langchain-core>=0.1->langgraph) (3.4.3)\n",
            "Requirement already satisfied: urllib3<3,>=1.21.1 in /usr/local/lib/python3.11/dist-packages (from requests>=2.0.0->langsmith>=0.3.45->langchain-core>=0.1->langgraph) (2.5.0)\n",
            "Requirement already satisfied: sniffio>=1.1 in /usr/local/lib/python3.11/dist-packages (from anyio->httpx>=0.25.2->langgraph-sdk<0.3.0,>=0.2.0->langgraph) (1.3.1)\n",
            "Downloading langgraph-0.6.4-py3-none-any.whl (153 kB)\n",
            "\u001b[2K   \u001b[90m━━━━━━━━━━━━━━━━━━━━━━━━━━━━━━━━━━━━━━━━\u001b[0m \u001b[32m153.2/153.2 kB\u001b[0m \u001b[31m6.8 MB/s\u001b[0m eta \u001b[36m0:00:00\u001b[0m\n",
            "\u001b[?25hDownloading langgraph_checkpoint-2.1.1-py3-none-any.whl (43 kB)\n",
            "\u001b[2K   \u001b[90m━━━━━━━━━━━━━━━━━━━━━━━━━━━━━━━━━━━━━━━━\u001b[0m \u001b[32m43.9/43.9 kB\u001b[0m \u001b[31m3.0 MB/s\u001b[0m eta \u001b[36m0:00:00\u001b[0m\n",
            "\u001b[?25hDownloading langgraph_prebuilt-0.6.4-py3-none-any.whl (28 kB)\n",
            "Downloading langgraph_sdk-0.2.0-py3-none-any.whl (50 kB)\n",
            "\u001b[2K   \u001b[90m━━━━━━━━━━━━━━━━━━━━━━━━━━━━━━━━━━━━━━━━\u001b[0m \u001b[32m50.6/50.6 kB\u001b[0m \u001b[31m4.0 MB/s\u001b[0m eta \u001b[36m0:00:00\u001b[0m\n",
            "\u001b[?25hDownloading ormsgpack-1.10.0-cp311-cp311-manylinux_2_17_x86_64.manylinux2014_x86_64.whl (216 kB)\n",
            "\u001b[2K   \u001b[90m━━━━━━━━━━━━━━━━━━━━━━━━━━━━━━━━━━━━━━━━\u001b[0m \u001b[32m216.5/216.5 kB\u001b[0m \u001b[31m13.6 MB/s\u001b[0m eta \u001b[36m0:00:00\u001b[0m\n",
            "\u001b[?25hInstalling collected packages: ormsgpack, langgraph-sdk, langgraph-checkpoint, langgraph-prebuilt, langgraph\n",
            "Successfully installed langgraph-0.6.4 langgraph-checkpoint-2.1.1 langgraph-prebuilt-0.6.4 langgraph-sdk-0.2.0 ormsgpack-1.10.0\n"
          ]
        }
      ]
    },
    {
      "cell_type": "code",
      "source": [
        "%pip install --upgrade --quiet  langchain-community langchain-openai"
      ],
      "metadata": {
        "colab": {
          "base_uri": "https://localhost:8080/"
        },
        "id": "hR687HYOu5g6",
        "outputId": "0d1e275f-5ac6-4363-fa83-b18d53600f35"
      },
      "execution_count": null,
      "outputs": [
        {
          "output_type": "stream",
          "name": "stdout",
          "text": [
            "\u001b[2K   \u001b[90m━━━━━━━━━━━━━━━━━━━━━━━━━━━━━━━━━━━━━━━━\u001b[0m \u001b[32m2.5/2.5 MB\u001b[0m \u001b[31m32.8 MB/s\u001b[0m eta \u001b[36m0:00:00\u001b[0m\n",
            "\u001b[2K   \u001b[90m━━━━━━━━━━━━━━━━━━━━━━━━━━━━━━━━━━━━━━━━\u001b[0m \u001b[32m74.4/74.4 kB\u001b[0m \u001b[31m5.5 MB/s\u001b[0m eta \u001b[36m0:00:00\u001b[0m\n",
            "\u001b[2K   \u001b[90m━━━━━━━━━━━━━━━━━━━━━━━━━━━━━━━━━━━━━━━━\u001b[0m \u001b[32m786.8/786.8 kB\u001b[0m \u001b[31m27.8 MB/s\u001b[0m eta \u001b[36m0:00:00\u001b[0m\n",
            "\u001b[2K   \u001b[90m━━━━━━━━━━━━━━━━━━━━━━━━━━━━━━━━━━━━━━━━\u001b[0m \u001b[32m45.2/45.2 kB\u001b[0m \u001b[31m3.2 MB/s\u001b[0m eta \u001b[36m0:00:00\u001b[0m\n",
            "\u001b[2K   \u001b[90m━━━━━━━━━━━━━━━━━━━━━━━━━━━━━━━━━━━━━━━━\u001b[0m \u001b[32m50.9/50.9 kB\u001b[0m \u001b[31m2.2 MB/s\u001b[0m eta \u001b[36m0:00:00\u001b[0m\n",
            "\u001b[?25h"
          ]
        }
      ]
    },
    {
      "cell_type": "code",
      "execution_count": null,
      "metadata": {
        "id": "PeuCCQsrq71w"
      },
      "outputs": [],
      "source": [
        "from langchain.chat_models import init_chat_model\n",
        "from typing import Annotated\n",
        "from typing_extensions import TypedDict\n",
        "from langgraph.graph import StateGraph, START, END\n",
        "from langgraph.graph.message import add_messages\n",
        "from langchain_core.tools import tool\n",
        "from langgraph.prebuilt import ToolNode, tools_condition"
      ]
    },
    {
      "cell_type": "code",
      "source": [
        "from langgraph.checkpoint.memory import MemorySaver\n",
        "\n",
        "memory = MemorySaver()"
      ],
      "metadata": {
        "id": "UFhiVlPzDIQv"
      },
      "execution_count": null,
      "outputs": []
    },
    {
      "cell_type": "code",
      "source": [
        "class State(TypedDict):\n",
        "  messages: Annotated[list, add_messages]"
      ],
      "metadata": {
        "id": "XYCZKoE1rI4F"
      },
      "execution_count": null,
      "outputs": []
    },
    {
      "cell_type": "code",
      "source": [
        "#from secret_key import openapi_key\n",
        "import os\n",
        "os.environ['OPENAI_API_KEY'] = \"\""
      ],
      "metadata": {
        "id": "edIvrSVVtxy_"
      },
      "execution_count": null,
      "outputs": []
    },
    {
      "cell_type": "code",
      "source": [
        "from langchain_openai import ChatOpenAI\n",
        "\n",
        "llm = ChatOpenAI(model=\"gpt-4o\")"
      ],
      "metadata": {
        "id": "hKa4rpP2u3At"
      },
      "execution_count": null,
      "outputs": []
    },
    {
      "cell_type": "code",
      "source": [
        "@tool\n",
        "def get_stock_price(symbol: str) -> float:\n",
        "  '''Return the current price of a stock given the stock symbol\n",
        "  :param symbol: stock symbol\n",
        "  :return: current price of the stock\n",
        "  '''\n",
        "  return {\n",
        "      \"MSFT\": 200.3,\n",
        "      \"AAPL\": 100.4,\n",
        "      \"AMZN\": 150.0,\n",
        "      \"RIL\": 87.6\n",
        "  }.get(symbol, 0.0)\n",
        "\n",
        "tools = [get_stock_price]"
      ],
      "metadata": {
        "id": "Sbzq36RJt5wR"
      },
      "execution_count": null,
      "outputs": []
    },
    {
      "cell_type": "code",
      "source": [
        "llm_with_tools = llm.bind_tools(tools)"
      ],
      "metadata": {
        "id": "tChOS4nHudvl"
      },
      "execution_count": null,
      "outputs": []
    },
    {
      "cell_type": "code",
      "source": [
        "def chatbot(state: State) -> State:\n",
        "  return {\"messages\": [llm_with_tools.invoke(state[\"messages\"])]}\n",
        "\n",
        "builder = StateGraph(State)\n",
        "\n",
        "builder.add_node(chatbot)\n",
        "builder.add_node(\"tools\", ToolNode(tools))\n",
        "\n",
        "builder.add_edge(START, \"chatbot\")\n",
        "builder.add_conditional_edges(\"chatbot\", tools_condition)\n",
        "builder.add_edge(\"tools\", \"chatbot\")\n",
        "\n",
        "\n",
        "graph = builder.compile(checkpointer=memory)\n"
      ],
      "metadata": {
        "id": "6NNolu3Q7iPI"
      },
      "execution_count": null,
      "outputs": []
    },
    {
      "cell_type": "code",
      "source": [
        "from IPython.display import Image, display\n",
        "\n",
        "display(Image(graph.get_graph().draw_mermaid_png()))"
      ],
      "metadata": {
        "colab": {
          "base_uri": "https://localhost:8080/",
          "height": 266
        },
        "id": "4oiYAZ__8XJf",
        "outputId": "05ba4448-b581-4f60-a0c6-deedf61911ef"
      },
      "execution_count": null,
      "outputs": [
        {
          "output_type": "display_data",
          "data": {
            "image/png": "[encoded data removed]",
            "text/plain": [
              "<IPython.core.display.Image object>"
            ]
          },
          "metadata": {}
        }
      ]
    },
    {
      "cell_type": "code",
      "source": [
        "config1 = { 'configurable': { 'thread_id': '1'}}\n",
        "\n",
        "state = graph.invoke({\"messages\": [{\"role\": \"user\", \"content\": \"I want to buy 20 AMZN stocks using current price. Then 15 MSFT. What will be the total cost?\"}]}, config=config1)\n",
        "print(state[\"messages\"][-1].content)\n",
        "print(state)"
      ],
      "metadata": {
        "colab": {
          "base_uri": "https://localhost:8080/"
        },
        "id": "-5nPFeJx-5PX",
        "outputId": "f0d5376d-f460-4465-e0fa-8d994e6ae804"
      },
      "execution_count": null,
      "outputs": [
        {
          "output_type": "stream",
          "name": "stdout",
          "text": [
            "The current price of AMZN stock is $150.00, and MSFT stock is $200.30. \n",
            "\n",
            "To calculate the total cost:\n",
            "- 20 AMZN stocks: \\(20 \\times 150.00 = 3,000\\)\n",
            "- 15 MSFT stocks: \\(15 \\times 200.30 = 3,004.50\\)\n",
            "\n",
            "So, the total cost will be $3,000 + $3,004.50 = $6,004.50.\n",
            "{'messages': [HumanMessage(content='I want to buy 20 AMZN stocks using current price. Then 15 MSFT. What will be the total cost?', additional_kwargs={}, response_metadata={}, id='adf0bbf0-61ad-4602-94d0-1cb3c207a1c1'), AIMessage(content='', additional_kwargs={'tool_calls': [{'id': 'call_v4VFUsX9NhHDsRSOpDYLwZSa', 'function': {'arguments': '{\"symbol\": \"AMZN\"}', 'name': 'get_stock_price'}, 'type': 'function'}, {'id': 'call_5JFrxo0DtCy3EtfI5551XLO2', 'function': {'arguments': '{\"symbol\": \"MSFT\"}', 'name': 'get_stock_price'}, 'type': 'function'}], 'refusal': None}, response_metadata={'token_usage': {'completion_tokens': 48, 'prompt_tokens': 94, 'total_tokens': 142, 'completion_tokens_details': {'accepted_prediction_tokens': 0, 'audio_tokens': 0, 'reasoning_tokens': 0, 'rejected_prediction_tokens': 0}, 'prompt_tokens_details': {'audio_tokens': 0, 'cached_tokens': 0}}, 'model_name': 'gpt-4o-2024-08-06', 'system_fingerprint': 'fp_07871e2ad8', 'id': 'chatcmpl-C4AxlzeVBmxwOCogs9GxIwzZUk0YD', 'service_tier': 'default', 'finish_reason': 'tool_calls', 'logprobs': None}, id='run--9d8bcc75-badd-49e6-baf5-37cd619c6a32-0', tool_calls=[{'name': 'get_stock_price', 'args': {'symbol': 'AMZN'}, 'id': 'call_v4VFUsX9NhHDsRSOpDYLwZSa', 'type': 'tool_call'}, {'name': 'get_stock_price', 'args': {'symbol': 'MSFT'}, 'id': 'call_5JFrxo0DtCy3EtfI5551XLO2', 'type': 'tool_call'}], usage_metadata={'input_tokens': 94, 'output_tokens': 48, 'total_tokens': 142, 'input_token_details': {'audio': 0, 'cache_read': 0}, 'output_token_details': {'audio': 0, 'reasoning': 0}}), ToolMessage(content='150.0', name='get_stock_price', id='ea5d0d7d-59aa-4430-aa6e-a8b6f42e2ccc', tool_call_id='call_v4VFUsX9NhHDsRSOpDYLwZSa'), ToolMessage(content='200.3', name='get_stock_price', id='38b9a854-240b-4ff7-8967-dca949c6c049', tool_call_id='call_5JFrxo0DtCy3EtfI5551XLO2'), AIMessage(content='The current price of AMZN stock is $150.00, and MSFT stock is $200.30. \\n\\nTo calculate the total cost:\\n- 20 AMZN stocks: \\\\(20 \\\\times 150.00 = 3,000\\\\)\\n- 15 MSFT stocks: \\\\(15 \\\\times 200.30 = 3,004.50\\\\)\\n\\nSo, the total cost will be $3,000 + $3,004.50 = $6,004.50.', additional_kwargs={'refusal': None}, response_metadata={'token_usage': {'completion_tokens': 103, 'prompt_tokens': 162, 'total_tokens': 265, 'completion_tokens_details': {'accepted_prediction_tokens': 0, 'audio_tokens': 0, 'reasoning_tokens': 0, 'rejected_prediction_tokens': 0}, 'prompt_tokens_details': {'audio_tokens': 0, 'cached_tokens': 0}}, 'model_name': 'gpt-4o-2024-08-06', 'system_fingerprint': 'fp_07871e2ad8', 'id': 'chatcmpl-C4AxnnFkgxcRROp4HURVH71NWUFO2', 'service_tier': 'default', 'finish_reason': 'stop', 'logprobs': None}, id='run--3d549d7a-8108-4562-90e1-8d4bd65f79b1-0', usage_metadata={'input_tokens': 162, 'output_tokens': 103, 'total_tokens': 265, 'input_token_details': {'audio': 0, 'cache_read': 0}, 'output_token_details': {'audio': 0, 'reasoning': 0}})]}\n"
          ]
        }
      ]
    },
    {
      "cell_type": "code",
      "source": [
        "config2 = { 'configurable': { 'thread_id': '2'}}\n",
        "\n",
        "state = graph.invoke({\"messages\": [{\"role\": \"user\", \"content\": \"Tell me the current price of 5 APPL stocks.\"}]}, config=config2)\n",
        "print(state[\"messages\"][-1].content)\n",
        "print(state)"
      ],
      "metadata": {
        "colab": {
          "base_uri": "https://localhost:8080/"
        },
        "id": "KPuSZtzUxzFi",
        "outputId": "22289e3b-2005-425c-9407-77dd32d6d161"
      },
      "execution_count": null,
      "outputs": [
        {
          "output_type": "stream",
          "name": "stdout",
          "text": [
            "The current price of one AAPL (Apple Inc.) stock is $100.4. Therefore, the price for 5 AAPL stocks would be \\(5 \\times 100.4 = 502\\) dollars.\n",
            "{'messages': [HumanMessage(content='Tell me the current price of 5 APPL stocks.', additional_kwargs={}, response_metadata={}, id='8f56dfc8-51dc-448b-8df5-63a76dea99bc'), AIMessage(content='', additional_kwargs={'tool_calls': [{'id': 'call_NatIHknnjgwdxQfodxoIdUgX', 'function': {'arguments': '{\"symbol\":\"AAPL\"}', 'name': 'get_stock_price'}, 'type': 'function'}], 'refusal': None}, response_metadata={'token_usage': {'completion_tokens': 16, 'prompt_tokens': 80, 'total_tokens': 96, 'completion_tokens_details': {'accepted_prediction_tokens': 0, 'audio_tokens': 0, 'reasoning_tokens': 0, 'rejected_prediction_tokens': 0}, 'prompt_tokens_details': {'audio_tokens': 0, 'cached_tokens': 0}}, 'model_name': 'gpt-4o-2024-08-06', 'system_fingerprint': 'fp_07871e2ad8', 'id': 'chatcmpl-C4AxzbvzqLaAh7k70jBOl9zuU7ydu', 'service_tier': 'default', 'finish_reason': 'tool_calls', 'logprobs': None}, id='run--f25a0626-097b-44e1-96dd-26fb28977f3c-0', tool_calls=[{'name': 'get_stock_price', 'args': {'symbol': 'AAPL'}, 'id': 'call_NatIHknnjgwdxQfodxoIdUgX', 'type': 'tool_call'}], usage_metadata={'input_tokens': 80, 'output_tokens': 16, 'total_tokens': 96, 'input_token_details': {'audio': 0, 'cache_read': 0}, 'output_token_details': {'audio': 0, 'reasoning': 0}}), ToolMessage(content='100.4', name='get_stock_price', id='8d23324b-1c7e-4284-a813-7ee76cbe3ccd', tool_call_id='call_NatIHknnjgwdxQfodxoIdUgX'), AIMessage(content='The current price of one AAPL (Apple Inc.) stock is $100.4. Therefore, the price for 5 AAPL stocks would be \\\\(5 \\\\times 100.4 = 502\\\\) dollars.', additional_kwargs={'refusal': None}, response_metadata={'token_usage': {'completion_tokens': 46, 'prompt_tokens': 108, 'total_tokens': 154, 'completion_tokens_details': {'accepted_prediction_tokens': 0, 'audio_tokens': 0, 'reasoning_tokens': 0, 'rejected_prediction_tokens': 0}, 'prompt_tokens_details': {'audio_tokens': 0, 'cached_tokens': 0}}, 'model_name': 'gpt-4o-2024-08-06', 'system_fingerprint': 'fp_07871e2ad8', 'id': 'chatcmpl-C4AxzbwHFvCOEvWyydclTPuUsNHlL', 'service_tier': 'default', 'finish_reason': 'stop', 'logprobs': None}, id='run--56057850-d95d-4e0e-ae08-fc56de85f681-0', usage_metadata={'input_tokens': 108, 'output_tokens': 46, 'total_tokens': 154, 'input_token_details': {'audio': 0, 'cache_read': 0}, 'output_token_details': {'audio': 0, 'reasoning': 0}})]}\n"
          ]
        }
      ]
    },
    {
      "cell_type": "code",
      "source": [
        "state = graph.invoke({\"messages\": [{\"role\": \"user\", \"content\": \"Using the current price tell me the total price of 10 RIL stocks and add it to previous total\"}]}, config=config1)\n",
        "print(state[\"messages\"][-1].content)\n",
        "print(state)"
      ],
      "metadata": {
        "colab": {
          "base_uri": "https://localhost:8080/"
        },
        "id": "aosfiovDD2Dk",
        "outputId": "5300330c-7c70-47f7-9893-bbe95248295e"
      },
      "execution_count": null,
      "outputs": [
        {
          "output_type": "stream",
          "name": "stdout",
          "text": [
            "The current price of RIL stock is $87.60.\n",
            "\n",
            "To calculate the cost for 10 RIL stocks:\n",
            "- 10 RIL stocks: \\(10 \\times 87.60 = 876.00\\)\n",
            "\n",
            "Adding this to the previous total of $6,004.50 gives us:\n",
            "\\[6,004.50 + 876.00 = 6,880.50\\]\n",
            "\n",
            "The new total is $6,880.50.\n",
            "{'messages': [HumanMessage(content='I want to buy 20 AMZN stocks using current price. Then 15 MSFT. What will be the total cost?', additional_kwargs={}, response_metadata={}, id='adf0bbf0-61ad-4602-94d0-1cb3c207a1c1'), AIMessage(content='', additional_kwargs={'tool_calls': [{'id': 'call_v4VFUsX9NhHDsRSOpDYLwZSa', 'function': {'arguments': '{\"symbol\": \"AMZN\"}', 'name': 'get_stock_price'}, 'type': 'function'}, {'id': 'call_5JFrxo0DtCy3EtfI5551XLO2', 'function': {'arguments': '{\"symbol\": \"MSFT\"}', 'name': 'get_stock_price'}, 'type': 'function'}], 'refusal': None}, response_metadata={'token_usage': {'completion_tokens': 48, 'prompt_tokens': 94, 'total_tokens': 142, 'completion_tokens_details': {'accepted_prediction_tokens': 0, 'audio_tokens': 0, 'reasoning_tokens': 0, 'rejected_prediction_tokens': 0}, 'prompt_tokens_details': {'audio_tokens': 0, 'cached_tokens': 0}}, 'model_name': 'gpt-4o-2024-08-06', 'system_fingerprint': 'fp_07871e2ad8', 'id': 'chatcmpl-C4AxlzeVBmxwOCogs9GxIwzZUk0YD', 'service_tier': 'default', 'finish_reason': 'tool_calls', 'logprobs': None}, id='run--9d8bcc75-badd-49e6-baf5-37cd619c6a32-0', tool_calls=[{'name': 'get_stock_price', 'args': {'symbol': 'AMZN'}, 'id': 'call_v4VFUsX9NhHDsRSOpDYLwZSa', 'type': 'tool_call'}, {'name': 'get_stock_price', 'args': {'symbol': 'MSFT'}, 'id': 'call_5JFrxo0DtCy3EtfI5551XLO2', 'type': 'tool_call'}], usage_metadata={'input_tokens': 94, 'output_tokens': 48, 'total_tokens': 142, 'input_token_details': {'audio': 0, 'cache_read': 0}, 'output_token_details': {'audio': 0, 'reasoning': 0}}), ToolMessage(content='150.0', name='get_stock_price', id='ea5d0d7d-59aa-4430-aa6e-a8b6f42e2ccc', tool_call_id='call_v4VFUsX9NhHDsRSOpDYLwZSa'), ToolMessage(content='200.3', name='get_stock_price', id='38b9a854-240b-4ff7-8967-dca949c6c049', tool_call_id='call_5JFrxo0DtCy3EtfI5551XLO2'), AIMessage(content='The current price of AMZN stock is $150.00, and MSFT stock is $200.30. \\n\\nTo calculate the total cost:\\n- 20 AMZN stocks: \\\\(20 \\\\times 150.00 = 3,000\\\\)\\n- 15 MSFT stocks: \\\\(15 \\\\times 200.30 = 3,004.50\\\\)\\n\\nSo, the total cost will be $3,000 + $3,004.50 = $6,004.50.', additional_kwargs={'refusal': None}, response_metadata={'token_usage': {'completion_tokens': 103, 'prompt_tokens': 162, 'total_tokens': 265, 'completion_tokens_details': {'accepted_prediction_tokens': 0, 'audio_tokens': 0, 'reasoning_tokens': 0, 'rejected_prediction_tokens': 0}, 'prompt_tokens_details': {'audio_tokens': 0, 'cached_tokens': 0}}, 'model_name': 'gpt-4o-2024-08-06', 'system_fingerprint': 'fp_07871e2ad8', 'id': 'chatcmpl-C4AxnnFkgxcRROp4HURVH71NWUFO2', 'service_tier': 'default', 'finish_reason': 'stop', 'logprobs': None}, id='run--3d549d7a-8108-4562-90e1-8d4bd65f79b1-0', usage_metadata={'input_tokens': 162, 'output_tokens': 103, 'total_tokens': 265, 'input_token_details': {'audio': 0, 'cache_read': 0}, 'output_token_details': {'audio': 0, 'reasoning': 0}}), HumanMessage(content='Using the current price tell me the total price of 10 RIL stocks and add it to previous total', additional_kwargs={}, response_metadata={}, id='e87dc3fd-686e-40c9-bbe7-aac43c5e1aaa'), AIMessage(content='', additional_kwargs={'tool_calls': [{'id': 'call_4cSy8uNNI2kKOyfgBlXPEVBV', 'function': {'arguments': '{\"symbol\":\"RIL\"}', 'name': 'get_stock_price'}, 'type': 'function'}], 'refusal': None}, response_metadata={'token_usage': {'completion_tokens': 16, 'prompt_tokens': 293, 'total_tokens': 309, 'completion_tokens_details': {'accepted_prediction_tokens': 0, 'audio_tokens': 0, 'reasoning_tokens': 0, 'rejected_prediction_tokens': 0}, 'prompt_tokens_details': {'audio_tokens': 0, 'cached_tokens': 0}}, 'model_name': 'gpt-4o-2024-08-06', 'system_fingerprint': 'fp_07871e2ad8', 'id': 'chatcmpl-C4AyQc4RsDdekrkO0iNqYR7RRJFAw', 'service_tier': 'default', 'finish_reason': 'tool_calls', 'logprobs': None}, id='run--d9552bd9-13e2-4c51-a4b2-ea77dddde63e-0', tool_calls=[{'name': 'get_stock_price', 'args': {'symbol': 'RIL'}, 'id': 'call_4cSy8uNNI2kKOyfgBlXPEVBV', 'type': 'tool_call'}], usage_metadata={'input_tokens': 293, 'output_tokens': 16, 'total_tokens': 309, 'input_token_details': {'audio': 0, 'cache_read': 0}, 'output_token_details': {'audio': 0, 'reasoning': 0}}), ToolMessage(content='87.6', name='get_stock_price', id='c2bde72f-5966-45cf-8bd9-41abff963b63', tool_call_id='call_4cSy8uNNI2kKOyfgBlXPEVBV'), AIMessage(content='The current price of RIL stock is $87.60.\\n\\nTo calculate the cost for 10 RIL stocks:\\n- 10 RIL stocks: \\\\(10 \\\\times 87.60 = 876.00\\\\)\\n\\nAdding this to the previous total of $6,004.50 gives us:\\n\\\\[6,004.50 + 876.00 = 6,880.50\\\\]\\n\\nThe new total is $6,880.50.', additional_kwargs={'refusal': None}, response_metadata={'token_usage': {'completion_tokens': 94, 'prompt_tokens': 321, 'total_tokens': 415, 'completion_tokens_details': {'accepted_prediction_tokens': 0, 'audio_tokens': 0, 'reasoning_tokens': 0, 'rejected_prediction_tokens': 0}, 'prompt_tokens_details': {'audio_tokens': 0, 'cached_tokens': 0}}, 'model_name': 'gpt-4o-2024-08-06', 'system_fingerprint': 'fp_07871e2ad8', 'id': 'chatcmpl-C4AyREGM1l8I1VWZiTbyDtL479QlX', 'service_tier': 'default', 'finish_reason': 'stop', 'logprobs': None}, id='run--c8324c37-866f-4b4e-82af-b4e4f55add93-0', usage_metadata={'input_tokens': 321, 'output_tokens': 94, 'total_tokens': 415, 'input_token_details': {'audio': 0, 'cache_read': 0}, 'output_token_details': {'audio': 0, 'reasoning': 0}})]}\n"
          ]
        }
      ]
    },
    {
      "cell_type": "code",
      "source": [
        "state = graph.invoke({\"messages\": [{\"role\": \"user\", \"content\": \"Using the current price tell me the total price of 10 RIL stocks and add it to previous total\"}]}, config=config2)\n",
        "print(state[\"messages\"][-1].content)\n",
        "print(state)"
      ],
      "metadata": {
        "colab": {
          "base_uri": "https://localhost:8080/"
        },
        "id": "9D5Pvkzuyh8N",
        "outputId": "586f5fd7-edf1-489c-a372-7025915fcd1f"
      },
      "execution_count": null,
      "outputs": [
        {
          "output_type": "stream",
          "name": "stdout",
          "text": [
            "The current price of one RIL (Reliance Industries Limited) stock is $87.6. Therefore, the price for 10 RIL stocks would be \\(10 \\times 87.6 = 876\\) dollars.\n",
            "\n",
            "Adding this to the previous total of $502 for 5 AAPL stocks, the combined total is \\(502 + 876 = 1378\\) dollars.\n",
            "{'messages': [HumanMessage(content='Tell me the current price of 5 APPL stocks.', additional_kwargs={}, response_metadata={}, id='8f56dfc8-51dc-448b-8df5-63a76dea99bc'), AIMessage(content='', additional_kwargs={'tool_calls': [{'id': 'call_NatIHknnjgwdxQfodxoIdUgX', 'function': {'arguments': '{\"symbol\":\"AAPL\"}', 'name': 'get_stock_price'}, 'type': 'function'}], 'refusal': None}, response_metadata={'token_usage': {'completion_tokens': 16, 'prompt_tokens': 80, 'total_tokens': 96, 'completion_tokens_details': {'accepted_prediction_tokens': 0, 'audio_tokens': 0, 'reasoning_tokens': 0, 'rejected_prediction_tokens': 0}, 'prompt_tokens_details': {'audio_tokens': 0, 'cached_tokens': 0}}, 'model_name': 'gpt-4o-2024-08-06', 'system_fingerprint': 'fp_07871e2ad8', 'id': 'chatcmpl-C4AxzbvzqLaAh7k70jBOl9zuU7ydu', 'service_tier': 'default', 'finish_reason': 'tool_calls', 'logprobs': None}, id='run--f25a0626-097b-44e1-96dd-26fb28977f3c-0', tool_calls=[{'name': 'get_stock_price', 'args': {'symbol': 'AAPL'}, 'id': 'call_NatIHknnjgwdxQfodxoIdUgX', 'type': 'tool_call'}], usage_metadata={'input_tokens': 80, 'output_tokens': 16, 'total_tokens': 96, 'input_token_details': {'audio': 0, 'cache_read': 0}, 'output_token_details': {'audio': 0, 'reasoning': 0}}), ToolMessage(content='100.4', name='get_stock_price', id='8d23324b-1c7e-4284-a813-7ee76cbe3ccd', tool_call_id='call_NatIHknnjgwdxQfodxoIdUgX'), AIMessage(content='The current price of one AAPL (Apple Inc.) stock is $100.4. Therefore, the price for 5 AAPL stocks would be \\\\(5 \\\\times 100.4 = 502\\\\) dollars.', additional_kwargs={'refusal': None}, response_metadata={'token_usage': {'completion_tokens': 46, 'prompt_tokens': 108, 'total_tokens': 154, 'completion_tokens_details': {'accepted_prediction_tokens': 0, 'audio_tokens': 0, 'reasoning_tokens': 0, 'rejected_prediction_tokens': 0}, 'prompt_tokens_details': {'audio_tokens': 0, 'cached_tokens': 0}}, 'model_name': 'gpt-4o-2024-08-06', 'system_fingerprint': 'fp_07871e2ad8', 'id': 'chatcmpl-C4AxzbwHFvCOEvWyydclTPuUsNHlL', 'service_tier': 'default', 'finish_reason': 'stop', 'logprobs': None}, id='run--56057850-d95d-4e0e-ae08-fc56de85f681-0', usage_metadata={'input_tokens': 108, 'output_tokens': 46, 'total_tokens': 154, 'input_token_details': {'audio': 0, 'cache_read': 0}, 'output_token_details': {'audio': 0, 'reasoning': 0}}), HumanMessage(content='Using the current price tell me the total price of 10 RIL stocks and add it to previous total', additional_kwargs={}, response_metadata={}, id='f324c73d-ded9-483b-b000-8cb8dc93cec7'), AIMessage(content='', additional_kwargs={'tool_calls': [{'id': 'call_VYIqMxQtobVFXWAodQmSl7wg', 'function': {'arguments': '{\"symbol\":\"RIL\"}', 'name': 'get_stock_price'}, 'type': 'function'}], 'refusal': None}, response_metadata={'token_usage': {'completion_tokens': 16, 'prompt_tokens': 182, 'total_tokens': 198, 'completion_tokens_details': {'accepted_prediction_tokens': 0, 'audio_tokens': 0, 'reasoning_tokens': 0, 'rejected_prediction_tokens': 0}, 'prompt_tokens_details': {'audio_tokens': 0, 'cached_tokens': 0}}, 'model_name': 'gpt-4o-2024-08-06', 'system_fingerprint': 'fp_07871e2ad8', 'id': 'chatcmpl-C4AyT3jMQdUpWNNOEmLWjbTBPgSCu', 'service_tier': 'default', 'finish_reason': 'tool_calls', 'logprobs': None}, id='run--1e8dd401-c678-4f39-85a6-51fe96fbbd46-0', tool_calls=[{'name': 'get_stock_price', 'args': {'symbol': 'RIL'}, 'id': 'call_VYIqMxQtobVFXWAodQmSl7wg', 'type': 'tool_call'}], usage_metadata={'input_tokens': 182, 'output_tokens': 16, 'total_tokens': 198, 'input_token_details': {'audio': 0, 'cache_read': 0}, 'output_token_details': {'audio': 0, 'reasoning': 0}}), ToolMessage(content='87.6', name='get_stock_price', id='2f4a5fb7-bf35-4cd8-94f6-35a70d6d421f', tool_call_id='call_VYIqMxQtobVFXWAodQmSl7wg'), AIMessage(content='The current price of one RIL (Reliance Industries Limited) stock is $87.6. Therefore, the price for 10 RIL stocks would be \\\\(10 \\\\times 87.6 = 876\\\\) dollars.\\n\\nAdding this to the previous total of $502 for 5 AAPL stocks, the combined total is \\\\(502 + 876 = 1378\\\\) dollars.', additional_kwargs={'refusal': None}, response_metadata={'token_usage': {'completion_tokens': 81, 'prompt_tokens': 210, 'total_tokens': 291, 'completion_tokens_details': {'accepted_prediction_tokens': 0, 'audio_tokens': 0, 'reasoning_tokens': 0, 'rejected_prediction_tokens': 0}, 'prompt_tokens_details': {'audio_tokens': 0, 'cached_tokens': 0}}, 'model_name': 'gpt-4o-2024-08-06', 'system_fingerprint': 'fp_07871e2ad8', 'id': 'chatcmpl-C4AyUByeezguCRf9qng0I0YprZdGQ', 'service_tier': 'default', 'finish_reason': 'stop', 'logprobs': None}, id='run--40eb3eee-14b3-4e35-86de-f8693c1180c7-0', usage_metadata={'input_tokens': 210, 'output_tokens': 81, 'total_tokens': 291, 'input_token_details': {'audio': 0, 'cache_read': 0}, 'output_token_details': {'audio': 0, 'reasoning': 0}})]}\n"
          ]
        }
      ]
    }
  ]
}